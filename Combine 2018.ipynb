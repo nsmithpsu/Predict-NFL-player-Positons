{
 "cells": [
  {
   "cell_type": "code",
   "execution_count": 18,
   "metadata": {},
   "outputs": [],
   "source": [
    "import matplotlib.pyplot as plt\n",
    "import numpy as np\n",
    "import pandas as pd\n",
    "from sklearn import tree"
   ]
  },
  {
   "cell_type": "code",
   "execution_count": 19,
   "metadata": {},
   "outputs": [
    {
     "data": {
      "text/html": [
       "<div>\n",
       "<style scoped>\n",
       "    .dataframe tbody tr th:only-of-type {\n",
       "        vertical-align: middle;\n",
       "    }\n",
       "\n",
       "    .dataframe tbody tr th {\n",
       "        vertical-align: top;\n",
       "    }\n",
       "\n",
       "    .dataframe thead th {\n",
       "        text-align: right;\n",
       "    }\n",
       "</style>\n",
       "<table border=\"1\" class=\"dataframe\">\n",
       "  <thead>\n",
       "    <tr style=\"text-align: right;\">\n",
       "      <th></th>\n",
       "      <th>Player</th>\n",
       "      <th>Position</th>\n",
       "      <th>Height</th>\n",
       "      <th>Weight</th>\n",
       "      <th>40 Yard</th>\n",
       "      <th>Bench</th>\n",
       "      <th>Vertical</th>\n",
       "    </tr>\n",
       "  </thead>\n",
       "  <tbody>\n",
       "    <tr>\n",
       "      <th>0</th>\n",
       "      <td>Maddox, Avonte</td>\n",
       "      <td>DB</td>\n",
       "      <td>5980</td>\n",
       "      <td>184</td>\n",
       "      <td>4.39</td>\n",
       "      <td>13.0</td>\n",
       "      <td>37.0</td>\n",
       "    </tr>\n",
       "    <tr>\n",
       "      <th>1</th>\n",
       "      <td>Reed, D.J.</td>\n",
       "      <td>DB</td>\n",
       "      <td>5980</td>\n",
       "      <td>188</td>\n",
       "      <td>4.51</td>\n",
       "      <td>11.0</td>\n",
       "      <td>36.5</td>\n",
       "    </tr>\n",
       "    <tr>\n",
       "      <th>2</th>\n",
       "      <td>Haley, Grant</td>\n",
       "      <td>DB</td>\n",
       "      <td>5980</td>\n",
       "      <td>190</td>\n",
       "      <td>4.44</td>\n",
       "      <td>15.0</td>\n",
       "      <td>34.0</td>\n",
       "    </tr>\n",
       "    <tr>\n",
       "      <th>3</th>\n",
       "      <td>Johnson, Danny</td>\n",
       "      <td>DB</td>\n",
       "      <td>5980</td>\n",
       "      <td>181</td>\n",
       "      <td>4.44</td>\n",
       "      <td>15.0</td>\n",
       "      <td>35.0</td>\n",
       "    </tr>\n",
       "    <tr>\n",
       "      <th>4</th>\n",
       "      <td>Fant, Rashard</td>\n",
       "      <td>DB</td>\n",
       "      <td>5980</td>\n",
       "      <td>179</td>\n",
       "      <td>4.47</td>\n",
       "      <td>15.0</td>\n",
       "      <td>36.3</td>\n",
       "    </tr>\n",
       "  </tbody>\n",
       "</table>\n",
       "</div>"
      ],
      "text/plain": [
       "           Player Position  Height  Weight  40 Yard  Bench  Vertical\n",
       "0  Maddox, Avonte       DB    5980     184     4.39   13.0      37.0\n",
       "1      Reed, D.J.       DB    5980     188     4.51   11.0      36.5\n",
       "2    Haley, Grant       DB    5980     190     4.44   15.0      34.0\n",
       "3  Johnson, Danny       DB    5980     181     4.44   15.0      35.0\n",
       "4   Fant, Rashard       DB    5980     179     4.47   15.0      36.3"
      ]
     },
     "execution_count": 19,
     "metadata": {},
     "output_type": "execute_result"
    }
   ],
   "source": [
    "dataset = pd.read_csv('2018combine.csv', encoding ='ISO-8859-1')\n",
    "dataset.head()"
   ]
  },
  {
   "cell_type": "code",
   "execution_count": 20,
   "metadata": {
    "scrolled": true
   },
   "outputs": [
    {
     "name": "stdout",
     "output_type": "stream",
     "text": [
      "<class 'pandas.core.frame.DataFrame'>\n",
      "RangeIndex: 317 entries, 0 to 316\n",
      "Data columns (total 7 columns):\n",
      "Player      317 non-null object\n",
      "Position    317 non-null object\n",
      "Height      317 non-null int64\n",
      "Weight      317 non-null int64\n",
      "40 Yard     317 non-null float64\n",
      "Bench       317 non-null float64\n",
      "Vertical    317 non-null float64\n",
      "dtypes: float64(3), int64(2), object(2)\n",
      "memory usage: 17.4+ KB\n"
     ]
    },
    {
     "data": {
      "text/html": [
       "<div>\n",
       "<style scoped>\n",
       "    .dataframe tbody tr th:only-of-type {\n",
       "        vertical-align: middle;\n",
       "    }\n",
       "\n",
       "    .dataframe tbody tr th {\n",
       "        vertical-align: top;\n",
       "    }\n",
       "\n",
       "    .dataframe thead th {\n",
       "        text-align: right;\n",
       "    }\n",
       "</style>\n",
       "<table border=\"1\" class=\"dataframe\">\n",
       "  <thead>\n",
       "    <tr style=\"text-align: right;\">\n",
       "      <th></th>\n",
       "      <th>Height</th>\n",
       "      <th>Weight</th>\n",
       "      <th>40 Yard</th>\n",
       "      <th>Bench</th>\n",
       "      <th>Vertical</th>\n",
       "    </tr>\n",
       "  </thead>\n",
       "  <tbody>\n",
       "    <tr>\n",
       "      <th>count</th>\n",
       "      <td>317.000000</td>\n",
       "      <td>317.000000</td>\n",
       "      <td>317.000000</td>\n",
       "      <td>317.000000</td>\n",
       "      <td>317.000000</td>\n",
       "    </tr>\n",
       "    <tr>\n",
       "      <th>mean</th>\n",
       "      <td>6019.063091</td>\n",
       "      <td>240.876972</td>\n",
       "      <td>4.748612</td>\n",
       "      <td>19.529968</td>\n",
       "      <td>32.895268</td>\n",
       "    </tr>\n",
       "    <tr>\n",
       "      <th>std</th>\n",
       "      <td>23.779894</td>\n",
       "      <td>43.996123</td>\n",
       "      <td>0.298660</td>\n",
       "      <td>5.940226</td>\n",
       "      <td>3.969099</td>\n",
       "    </tr>\n",
       "    <tr>\n",
       "      <th>min</th>\n",
       "      <td>5970.000000</td>\n",
       "      <td>178.000000</td>\n",
       "      <td>4.320000</td>\n",
       "      <td>4.000000</td>\n",
       "      <td>23.500000</td>\n",
       "    </tr>\n",
       "    <tr>\n",
       "      <th>25%</th>\n",
       "      <td>6002.000000</td>\n",
       "      <td>204.000000</td>\n",
       "      <td>4.520000</td>\n",
       "      <td>15.000000</td>\n",
       "      <td>31.000000</td>\n",
       "    </tr>\n",
       "    <tr>\n",
       "      <th>50%</th>\n",
       "      <td>6020.000000</td>\n",
       "      <td>229.000000</td>\n",
       "      <td>4.660000</td>\n",
       "      <td>19.500000</td>\n",
       "      <td>33.500000</td>\n",
       "    </tr>\n",
       "    <tr>\n",
       "      <th>75%</th>\n",
       "      <td>6036.000000</td>\n",
       "      <td>275.000000</td>\n",
       "      <td>4.900000</td>\n",
       "      <td>24.000000</td>\n",
       "      <td>35.500000</td>\n",
       "    </tr>\n",
       "    <tr>\n",
       "      <th>max</th>\n",
       "      <td>6085.000000</td>\n",
       "      <td>347.000000</td>\n",
       "      <td>5.850000</td>\n",
       "      <td>42.000000</td>\n",
       "      <td>41.500000</td>\n",
       "    </tr>\n",
       "  </tbody>\n",
       "</table>\n",
       "</div>"
      ],
      "text/plain": [
       "            Height      Weight     40 Yard       Bench    Vertical\n",
       "count   317.000000  317.000000  317.000000  317.000000  317.000000\n",
       "mean   6019.063091  240.876972    4.748612   19.529968   32.895268\n",
       "std      23.779894   43.996123    0.298660    5.940226    3.969099\n",
       "min    5970.000000  178.000000    4.320000    4.000000   23.500000\n",
       "25%    6002.000000  204.000000    4.520000   15.000000   31.000000\n",
       "50%    6020.000000  229.000000    4.660000   19.500000   33.500000\n",
       "75%    6036.000000  275.000000    4.900000   24.000000   35.500000\n",
       "max    6085.000000  347.000000    5.850000   42.000000   41.500000"
      ]
     },
     "execution_count": 20,
     "metadata": {},
     "output_type": "execute_result"
    }
   ],
   "source": [
    "#dataset.head() #top five\n",
    "dataset.info()\n",
    "dataset.describe()"
   ]
  },
  {
   "cell_type": "code",
   "execution_count": 21,
   "metadata": {},
   "outputs": [],
   "source": [
    "data = dataset[['Height','Weight','40 Yard','Bench','Vertical']]\n",
    "target = dataset[['Position']]"
   ]
  },
  {
   "cell_type": "code",
   "execution_count": 22,
   "metadata": {},
   "outputs": [
    {
     "data": {
      "text/plain": [
       "DecisionTreeClassifier(class_weight=None, criterion='gini', max_depth=None,\n",
       "            max_features=None, max_leaf_nodes=None,\n",
       "            min_impurity_decrease=0.0, min_impurity_split=None,\n",
       "            min_samples_leaf=1, min_samples_split=2,\n",
       "            min_weight_fraction_leaf=0.0, presort=False, random_state=None,\n",
       "            splitter='best')"
      ]
     },
     "execution_count": 22,
     "metadata": {},
     "output_type": "execute_result"
    }
   ],
   "source": [
    "clf = tree.DecisionTreeClassifier()\n",
    "clf.fit(data,target)"
   ]
  },
  {
   "cell_type": "code",
   "execution_count": 23,
   "metadata": {},
   "outputs": [
    {
     "data": {
      "text/plain": [
       "array(['DB', 'DB', 'DB', 'DB', 'DB', 'DB', 'DB', 'DB', 'DB', 'DB', 'DB',\n",
       "       'DB', 'DB', 'DB', 'DB', 'DB', 'DB', 'DB', 'DB', 'DB', 'DB', 'DB',\n",
       "       'DB', 'DB', 'DB', 'DB', 'DB', 'DB', 'DB', 'DB', 'DB', 'DB', 'DB',\n",
       "       'DB', 'DB', 'DB', 'DB', 'DB', 'DB', 'DB', 'DB', 'DB', 'DB', 'DB',\n",
       "       'DB', 'DB', 'DB', 'DB', 'DB', 'DB', 'DB', 'DB', 'DB', 'DB', 'DB',\n",
       "       'DB', 'DB', 'DB', 'DB', 'DB', 'DB', 'DB', 'DB', 'DB', 'DB', 'DB',\n",
       "       'DB', 'DB', 'DB', 'DL', 'DL', 'DL', 'DL', 'DL', 'DL', 'DL', 'DL',\n",
       "       'DL', 'DL', 'DL', 'DL', 'DL', 'DL', 'DL', 'DL', 'DL', 'DL', 'DL',\n",
       "       'DL', 'DL', 'DL', 'DL', 'DL', 'DL', 'DL', 'DL', 'DL', 'DL', 'DL',\n",
       "       'DL', 'DL', 'DL', 'DL', 'DL', 'DL', 'DL', 'DL', 'DL', 'DL', 'DL',\n",
       "       'DL', 'DL', 'DL', 'DL', 'DL', 'DL', 'DL', 'DL', 'DL', 'DL', 'LB',\n",
       "       'LB', 'LB', 'LB', 'LB', 'LB', 'LB', 'LB', 'LB', 'LB', 'LB', 'LB',\n",
       "       'LB', 'LB', 'LB', 'LB', 'LB', 'LB', 'LB', 'LB', 'LB', 'LB', 'LB',\n",
       "       'LB', 'LB', 'LB', 'LB', 'LB', 'LB', 'LB', 'LB', 'LB', 'LB', 'LB',\n",
       "       'LB', 'LB', 'LB', 'LB', 'LB', 'LB', 'LB', 'OL', 'OL', 'OL', 'OL',\n",
       "       'OL', 'OL', 'OL', 'OL', 'OL', 'OL', 'OL', 'OL', 'OL', 'OL', 'OL',\n",
       "       'OL', 'OL', 'OL', 'OL', 'OL', 'OL', 'OL', 'OL', 'OL', 'OL', 'OL',\n",
       "       'OL', 'OL', 'OL', 'OL', 'OL', 'OL', 'OL', 'OL', 'OL', 'OL', 'OL',\n",
       "       'OL', 'OL', 'OL', 'OL', 'OL', 'OL', 'OL', 'OL', 'OL', 'OL', 'QB',\n",
       "       'QB', 'QB', 'QB', 'QB', 'QB', 'QB', 'QB', 'QB', 'QB', 'QB', 'QB',\n",
       "       'QB', 'QB', 'QB', 'QB', 'QB', 'QB', 'RB', 'RB', 'RB', 'RB', 'RB',\n",
       "       'RB', 'RB', 'RB', 'RB', 'RB', 'RB', 'RB', 'RB', 'RB', 'RB', 'RB',\n",
       "       'RB', 'RB', 'RB', 'RB', 'RB', 'RB', 'RB', 'RB', 'RB', 'RB', 'RB',\n",
       "       'RB', 'RB', 'RB', 'RB', 'RB', 'TE', 'TE', 'TE', 'TE', 'TE', 'TE',\n",
       "       'TE', 'TE', 'TE', 'TE', 'TE', 'TE', 'TE', 'TE', 'TE', 'TE', 'WR',\n",
       "       'WR', 'WR', 'WR', 'WR', 'WR', 'WR', 'WR', 'WR', 'WR', 'WR', 'WR',\n",
       "       'WR', 'WR', 'WR', 'WR', 'WR', 'WR', 'WR', 'WR', 'WR', 'WR', 'WR',\n",
       "       'WR', 'WR', 'WR', 'WR', 'WR', 'WR', 'WR', 'WR', 'WR', 'WR', 'WR',\n",
       "       'WR', 'WR', 'WR', 'WR', 'WR', 'WR', 'WR', 'WR', 'WR'], dtype=object)"
      ]
     },
     "execution_count": 23,
     "metadata": {},
     "output_type": "execute_result"
    }
   ],
   "source": [
    "clf.predict(data)\n",
    "#worked lmao"
   ]
  },
  {
   "cell_type": "code",
   "execution_count": 24,
   "metadata": {},
   "outputs": [
    {
     "data": {
      "text/plain": [
       "array(['DL'], dtype=object)"
      ]
     },
     "execution_count": 24,
     "metadata": {},
     "output_type": "execute_result"
    }
   ],
   "source": [
    "test = [6040, 272, 4.78,19,31]  #input data for player you want in form [height,weight,40 yard,bench,vertical]\n",
    "test = np.array(test).reshape(1,-1)\n",
    "clf.predict(test)"
   ]
  },
  {
   "cell_type": "code",
   "execution_count": 25,
   "metadata": {},
   "outputs": [
    {
     "name": "stdout",
     "output_type": "stream",
     "text": [
      "Height:6000\n",
      "Weight:300\n",
      "40 yard dash time:5\n",
      "Bench reps:30\n",
      "Vertical jump:10\n"
     ]
    },
    {
     "data": {
      "text/plain": [
       "array(['OL'], dtype=object)"
      ]
     },
     "execution_count": 25,
     "metadata": {},
     "output_type": "execute_result"
    }
   ],
   "source": [
    "height = input(\"Height:\")\n",
    "weight = input(\"Weight:\")\n",
    "fortyyard = input(\"40 yard dash time:\")\n",
    "bench = input(\"Bench reps:\")\n",
    "vertical = input(\"Vertical jump:\")\n",
    "test = [height, weight, fortyyard,bench,vertical]  #input data for player you want in form [height,weight,40 yard,bench,vertical]\n",
    "test = np.array(test).reshape(1,-1)\n",
    "clf.predict(test)"
   ]
  },
  {
   "cell_type": "code",
   "execution_count": null,
   "metadata": {},
   "outputs": [],
   "source": []
  },
  {
   "cell_type": "code",
   "execution_count": null,
   "metadata": {},
   "outputs": [],
   "source": []
  }
 ],
 "metadata": {
  "kernelspec": {
   "display_name": "Python 3",
   "language": "python",
   "name": "python3"
  },
  "language_info": {
   "codemirror_mode": {
    "name": "ipython",
    "version": 3
   },
   "file_extension": ".py",
   "mimetype": "text/x-python",
   "name": "python",
   "nbconvert_exporter": "python",
   "pygments_lexer": "ipython3",
   "version": "3.6.5"
  }
 },
 "nbformat": 4,
 "nbformat_minor": 2
}
